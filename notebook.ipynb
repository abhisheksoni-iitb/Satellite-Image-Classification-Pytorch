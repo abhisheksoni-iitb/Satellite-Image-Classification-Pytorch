{
  "nbformat": 4,
  "nbformat_minor": 0,
  "metadata": {
    "colab": {
      "name": "code_type1",
      "provenance": []
    },
    "kernelspec": {
      "name": "python3",
      "display_name": "Python 3"
    },
    "accelerator": "GPU"
  },
  "cells": [
    {
      "cell_type": "code",
      "metadata": {
        "id": "mNVPywcKoPZx"
      },
      "source": [
        "#Utility libraries\n",
        "import torch.nn as nn\n",
        "import torch.optim as optim\n",
        "from torch.optim import lr_scheduler\n",
        "import numpy as np\n",
        "import torchvision\n",
        "from torchvision import datasets, models, transforms\n",
        "import torch.utils.data as data\n",
        "import matplotlib.pyplot as plt\n",
        "import time\n",
        "import os\n",
        "import copy\n",
        "import sklearn\n",
        "from google.colab.patches import cv2_imshow\n",
        "import cv2\n",
        "import torch\n",
        "from tqdm.auto import tqdm\n",
        "from sklearn.metrics import confusion_matrix, classification_report\n",
        "\n",
        "# For model building\n",
        "import torch.nn as nn\n",
        "import torch.nn.functional as F\n",
        "from torch.autograd import Variable\n",
        "from torch.optim import lr_scheduler\n",
        "from torch import optim\n",
        "from torchvision.datasets import ImageFolder\n",
        "from torchvision.utils import make_grid\n",
        "from torch.utils.data import Dataset, DataLoader\n",
        "import matplotlib.pyplot as plt\n",
        "from torchvision import models\n",
        "from torchvision import transforms\n",
        "from tqdm import tqdm"
      ],
      "execution_count": null,
      "outputs": []
    },
    {
      "cell_type": "markdown",
      "metadata": {
        "id": "Scy4JD0e3bxX"
      },
      "source": [
        "#Splitting Dataset for Augmentation"
      ]
    },
    {
      "cell_type": "code",
      "metadata": {
        "id": "2xeK13rg3h2D"
      },
      "source": [
        "import os\n",
        "import numpy as np\n",
        "import shutil\n",
        "import random\n",
        "\n",
        "# # Creating Train / Val / Test folders (One time use)\n",
        "root_dir = \"/content/drive/My Drive/Kaggle/Dataset/train\"\n",
        "classes_dir = ['basketball_court', 'beach', 'forest', 'others', 'railway', 'swimming_pool', 'tennis_court']\n",
        "\n",
        "val_ratio = 0.20\n",
        "\n",
        "for cls in classes_dir:\n",
        "    os.makedirs(root_dir +'/train/' + cls)\n",
        "    os.makedirs(root_dir +'/val/' + cls)\n",
        "\n",
        "\n",
        "    # Creating partitions of the data after shuffeling\n",
        "    src = root_dir + \"/\" + cls # Folder to copy images from\n",
        "\n",
        "    allFileNames = os.listdir(src)\n",
        "    np.random.shuffle(allFileNames)\n",
        "    train_FileNames, val_FileNames= np.split(np.array(allFileNames),\n",
        "                                                              [int(len(allFileNames)* (1 - val_ratio))])\n",
        "\n",
        "\n",
        "    train_FileNames = [src+'/'+ name for name in train_FileNames.tolist()]\n",
        "    val_FileNames = [src+'/' + name for name in val_FileNames.tolist()]\n",
        "\n",
        "    print('Total images: ', len(allFileNames))\n",
        "    print('Training: ', len(train_FileNames))\n",
        "    print('Validation: ', len(val_FileNames))\n",
        "\n",
        "    # Copy-pasting images\n",
        "    for name in train_FileNames:\n",
        "        shutil.copy(name, root_dir +'/train/' + cls)\n",
        "\n",
        "    for name in val_FileNames:\n",
        "        shutil.copy(name, root_dir +'/val/' + cls)\n"
      ],
      "execution_count": null,
      "outputs": []
    },
    {
      "cell_type": "markdown",
      "metadata": {
        "id": "J007GBv2rgrN"
      },
      "source": [
        "#Data Augmentation"
      ]
    },
    {
      "cell_type": "code",
      "metadata": {
        "id": "TZafXGf63VGZ"
      },
      "source": [
        "from keras.preprocessing.image import ImageDataGenerator, array_to_img, img_to_array, load_img\n",
        "\n",
        "datagen = ImageDataGenerator(\n",
        "        rotation_range=10,\n",
        "        zoom_range=0.3,\n",
        "        vertical_flip=True,\n",
        "        horizontal_flip=True,\n",
        "        fill_mode='constant')\n",
        "\n",
        "classes = ['basketball_court', 'beach', 'forest', 'others', 'railway', 'swimming_pool', 'tennis_court']\n",
        "\n",
        "for cls in classes:\n",
        "  for filename in tqdm(os.listdir(\"/content/drive/My Drive/Kaggle/Dataset/train/train/\"+cls)):\n",
        "    img = load_img(\"/content/drive/My Drive/Kaggle/Dataset/train/train/\"+cls+\"/\"+filename)  # this is a PIL image\n",
        "    x = img_to_array(img)  # this is a Numpy array with shape (3, 150, 150)\n",
        "    x = x.reshape((1,) + x.shape)  # this is a Numpy array with shape (1, 3, 150, 150)\n",
        "\n",
        "    # the .flow() command below generates batches of randomly transformed images\n",
        "    # and saves the results to the `preview/` directory\n",
        "    i = 0\n",
        "    for batch in datagen.flow(x, batch_size=1,\n",
        "                              save_to_dir=\"/content/drive/My Drive/Kaggle/Dataset/train_new/train/\"+cls, save_prefix=filename, save_format='jpeg'):\n",
        "        i += 1\n",
        "        if i > 10:\n",
        "            break  # otherwise the generator would loop indefinitely"
      ],
      "execution_count": null,
      "outputs": []
    },
    {
      "cell_type": "markdown",
      "metadata": {
        "id": "DinRiEBT3rfx"
      },
      "source": [
        "#Data Transformation"
      ]
    },
    {
      "cell_type": "code",
      "metadata": {
        "id": "0WqjD8pTrgrh"
      },
      "source": [
        "data_transforms = {\n",
        "    'train': transforms.Compose([\n",
        "        #transforms.RandomCrop(224),\n",
        "        transforms.Resize((224,224)),\n",
        "        #transforms.RandomResizedCrop(512,scale=(0.7, 1.0), ratio=(0.75, 1.3333333333333333)),\n",
        "        #transforms.RandomHorizontalFlip(p=0.5),\n",
        "        #transforms.RandomVerticalFlip(p=0.5),\n",
        "        transforms.RandomAffine(5, translate=(0.2,0.2), scale=(0.9,1.2), shear=(10,10), resample=False, fillcolor=0),\n",
        "        transforms.RandomPerspective(distortion_scale=0.1),\n",
        "        #transforms.RandomRotation(10, resample=False, expand=False),\n",
        "        #transforms.RandomErasing(p=0.5),\n",
        "        #transforms.ColorJitter(brightness=0.1, contrast=0.1, saturation=0.1, hue=0.1),\n",
        "        transforms.ToTensor(),\n",
        "        transforms.Normalize([0.3794, 0.3961, 0.3725], [0.1846, 0.1853, 0.1804])\n",
        "    ]),\n",
        "    'validation': transforms.Compose([                                    \n",
        "        transforms.Resize((224, 224)),\n",
        "        transforms.ToTensor(),\n",
        "        transforms.Normalize([0.3794, 0.3961, 0.3725], [0.1846, 0.1853, 0.1804])\n",
        "    ]),\n",
        "}\n",
        "\n",
        "\n",
        "device = torch.device(\"cuda:0\" if torch.cuda.is_available() else \"cpu\")"
      ],
      "execution_count": null,
      "outputs": []
    },
    {
      "cell_type": "markdown",
      "metadata": {
        "id": "WlRMsEc4nG7B"
      },
      "source": [
        "#Dataset and Dataloader preparation"
      ]
    },
    {
      "cell_type": "code",
      "metadata": {
        "id": "M-1_5U1ko6ey"
      },
      "source": [
        "#making the dataset\n",
        "train_dataset = datasets.ImageFolder(\"/content/drive/My Drive/Kaggle/Dataset/train_new/train/\", data_transforms['train'])\n",
        "val_dataset = datasets.ImageFolder(\"/content/drive/My Drive/Kaggle/Dataset/train/val\", data_transforms['validation'])\n",
        "\n",
        "\n",
        "#making the dataloader\n",
        "dataloaders = {}\n",
        "dataloaders['train'] = torch.utils.data.DataLoader(\n",
        "                                    train_dataset,                                        \n",
        "                                    batch_size=32,\n",
        "                                    shuffle=True, num_workers=4)\n",
        "dataloaders['validation'] = torch.utils.data.DataLoader(\n",
        "                                    val_dataset,                                        \n",
        "                                    batch_size=4,\n",
        "                                    shuffle=True, num_workers=4)\n",
        "\n",
        "dataset_sizes = {}\n",
        "dataset_sizes['train'] = len(train_dataset)\n",
        "dataset_sizes['validation'] = len(val_dataset)\n",
        "classes = train_dataset.classes"
      ],
      "execution_count": null,
      "outputs": []
    },
    {
      "cell_type": "code",
      "metadata": {
        "id": "FBvoRMRBKdj5",
        "outputId": "8ff89e05-d089-4a5b-a04e-9c4274268c8f",
        "colab": {
          "base_uri": "https://localhost:8080/",
          "height": 34
        }
      },
      "source": [
        "print(dataset_sizes)"
      ],
      "execution_count": null,
      "outputs": [
        {
          "output_type": "stream",
          "text": [
            "{'train': 4926, 'validation': 112}\n"
          ],
          "name": "stdout"
        }
      ]
    },
    {
      "cell_type": "markdown",
      "metadata": {
        "id": "vncx1ES8nM8k"
      },
      "source": [
        ""
      ]
    },
    {
      "cell_type": "markdown",
      "metadata": {
        "id": "VHsr5HWmoSyc"
      },
      "source": [
        "#Calculating mean "
      ]
    },
    {
      "cell_type": "code",
      "metadata": {
        "id": "saXIjxDqlHUV"
      },
      "source": [
        "#calculating mean and std for normalizing dataset\n",
        "#Calculated values are already used in the tranformation\n",
        "data = next(iter(dataloaders['train']))\n",
        "data[0].mean(axis = (0, 2, 3)), data[0].std(axis = (0, 2, 3))"
      ],
      "execution_count": null,
      "outputs": []
    },
    {
      "cell_type": "markdown",
      "metadata": {
        "id": "8sTiH61CoiDG"
      },
      "source": [
        "#Plotting distribution of normalized training dataset\n",
        "##We can see that the mean is around 0"
      ]
    },
    {
      "cell_type": "code",
      "metadata": {
        "id": "fP52flpplmk1",
        "outputId": "0b750ae6-adde-422a-970d-42ebea1527cd",
        "colab": {
          "base_uri": "https://localhost:8080/",
          "height": 293
        }
      },
      "source": [
        "plt.hist(data[0].flatten())\n",
        "plt.axvline(data[0].mean())"
      ],
      "execution_count": null,
      "outputs": [
        {
          "output_type": "execute_result",
          "data": {
            "text/plain": [
              "<matplotlib.lines.Line2D at 0x7f6f14e53a20>"
            ]
          },
          "metadata": {
            "tags": []
          },
          "execution_count": 37
        },
        {
          "output_type": "display_data",
          "data": {
            "image/png": "[encoded data removed]",
            "text/plain": [
              "<Figure size 432x288 with 1 Axes>"
            ]
          },
          "metadata": {
            "tags": [],
            "needs_background": "light"
          }
        }
      ]
    },
    {
      "cell_type": "markdown",
      "metadata": {
        "id": "y3ddpjW3nOzt"
      },
      "source": [
        "#Sample training dataset"
      ]
    },
    {
      "cell_type": "code",
      "metadata": {
        "id": "7KvsHDJ6saHa",
        "outputId": "c9587e82-d832-4b35-8c99-c825910dbdbd",
        "colab": {
          "base_uri": "https://localhost:8080/",
          "height": 253
        }
      },
      "source": [
        "import matplotlib.pyplot as plt\n",
        "import numpy as np\n",
        "\n",
        "# functions to show an image\n",
        "\n",
        "def imshow(img):\n",
        "    img = img / 2 + 0.5     # unnormalize\n",
        "    npimg = img.numpy()\n",
        "    plt.imshow(np.transpose(npimg, (1, 2, 0)))\n",
        "    plt.show()\n",
        "\n",
        "\n",
        "# get some random training images\n",
        "dataiter = iter(dataloaders['train'])\n",
        "images, labels = dataiter.next()\n",
        "\n",
        "# show images\n",
        "imshow(torchvision.utils.make_grid(images))\n",
        "# print labels\n",
        "print(' '.join('%5s' % classes[labels[j]] for j in range(4)))"
      ],
      "execution_count": null,
      "outputs": [
        {
          "output_type": "stream",
          "text": [
            "Clipping input data to the valid range for imshow with RGB data ([0..1] for floats or [0..255] for integers).\n"
          ],
          "name": "stderr"
        },
        {
          "output_type": "display_data",
          "data": {
            "image/png": "[encoded data removed]",
            "text/plain": [
              "<Figure size 432x288 with 1 Axes>"
            ]
          },
          "metadata": {
            "tags": [],
            "needs_background": "light"
          }
        },
        {
          "output_type": "stream",
          "text": [
            "swimming_pool others tennis_court others\n"
          ],
          "name": "stdout"
        }
      ]
    },
    {
      "cell_type": "markdown",
      "metadata": {
        "id": "thVOvRHNzy2i"
      },
      "source": [
        "#GNRNet"
      ]
    },
    {
      "cell_type": "code",
      "metadata": {
        "id": "466sczA-zxiN"
      },
      "source": [
        "class GNRNet(nn.Module):\n",
        "    def __init__(self):\n",
        "        super().__init__()\n",
        "        self.ConvLayer1 = nn.Sequential(\n",
        "            nn.Conv2d(in_channels = 3, out_channels = 64, kernel_size = 3, stride = 1, padding = 1),\n",
        "            nn.LeakyReLU(inplace = True),\n",
        "            nn.BatchNorm2d(64)\n",
        "        )\n",
        "        self.ConvLayer2 = nn.Sequential(\n",
        "            nn.Conv2d(in_channels = 64, out_channels = 64, kernel_size = 3, stride = 1, padding = 1),\n",
        "            nn.LeakyReLU(inplace = True),\n",
        "            nn.BatchNorm2d(64),\n",
        "            nn.MaxPool2d(kernel_size=2, stride=2, padding=0, dilation=1, ceil_mode=False)\n",
        "        )\n",
        "        self.ConvLayer3 = nn.Sequential(\n",
        "            nn.Conv2d(in_channels = 64, out_channels = 128, kernel_size = 3, stride = 1, padding = 1),\n",
        "            nn.LeakyReLU(inplace = True),\n",
        "            nn.BatchNorm2d(128),\n",
        "            nn.MaxPool2d(kernel_size=2, stride=2, padding=0, dilation=1, ceil_mode=False)\n",
        "        )\n",
        "        self.ConvLayer4 = nn.Sequential(\n",
        "            nn.Conv2d(in_channels = 128, out_channels = 256, kernel_size = 3, stride = 1, padding = 1),\n",
        "            nn.LeakyReLU(inplace = True),\n",
        "            nn.BatchNorm2d(256),\n",
        "            nn.MaxPool2d(kernel_size=2, stride=2, padding=0, dilation=1, ceil_mode=False)\n",
        "        )\n",
        "        self.ConvLayer5 = nn.Sequential(\n",
        "            nn.Conv2d(in_channels = 256, out_channels = 512, kernel_size = 3, stride = 1, padding = 1),\n",
        "            nn.LeakyReLU(inplace = True),\n",
        "            nn.BatchNorm2d(512),\n",
        "            nn.MaxPool2d(kernel_size=2, stride=2, padding=0, dilation=1, ceil_mode=False)\n",
        "        )\n",
        "        self.FC = nn.Sequential(\n",
        "            nn.Linear(100352, 1000),\n",
        "            nn.LeakyReLU(inplace = True),\n",
        "            nn.Dropout(p=0.5),\n",
        "            nn.Linear(1000, 7)\n",
        "        )\n",
        "    def forward(self, x):\n",
        "        x = self.ConvLayer1(x)\n",
        "        x = self.ConvLayer2(x)\n",
        "        x = self.ConvLayer3(x)\n",
        "        x = self.ConvLayer4(x)\n",
        "        x = self.ConvLayer5(x)\n",
        "        x = x.view(x.size(0), -1)\n",
        "        x = self.FC(x)\n",
        "\n",
        "       \n",
        "        #Modified Softmax\n",
        "        return F.log_softmax(x, dim = 1)\n",
        "\n",
        "model = GNRNet()\n",
        "model = model.to(device)\n",
        "\n",
        "criterion = nn.CrossEntropyLoss()\n",
        "'''\n",
        "optimizer = torch.optim.Adam(model.parameters(), lr=0.0001, weight_decay=0.05)\n",
        "scheduler = torch.optim.lr_scheduler.ReduceLROnPlateau(optimizer)\n",
        "#scheduler = torch.optim.lr_scheduler.StepLR(optimizer, step_size=50, gamma=0.1)\n",
        "'''\n",
        "# separate optimizer for classifier and convolutional blocks  \n",
        "optimizer_fc = torch.optim.SGD([param for (name, param) in model.named_parameters() if \"FC\" in name], lr=0.0001, weight_decay=0.05)\n",
        "optimizer_conv = torch.optim.SGD([param for (name, param) in model.named_parameters() if \"FC\" not in name], lr=0.001, weight_decay=0.05)\n",
        "\n",
        "# separate LR_Scheduler for classifier and convolutional blocks\n",
        "exp_lr_scheduler_fc = torch.optim.lr_scheduler.ReduceLROnPlateau(optimizer_fc)\n",
        "exp_lr_scheduler_conv = torch.optim.lr_scheduler.ReduceLROnPlateau(optimizer_conv)"
      ],
      "execution_count": null,
      "outputs": []
    },
    {
      "cell_type": "markdown",
      "metadata": {
        "id": "aEF7TdowLkz4"
      },
      "source": [
        "#Sanity check of above model"
      ]
    },
    {
      "cell_type": "code",
      "metadata": {
        "id": "6SvNPdTuaISx",
        "outputId": "b4a189ba-e058-4d70-842f-88d40407509a",
        "colab": {
          "base_uri": "https://localhost:8080/",
          "height": 50
        }
      },
      "source": [
        "x = torch.rand([1,3,224,224])\n",
        "inputt = x.to(device)\n",
        "outputs = model(inputt)\n",
        "outputs"
      ],
      "execution_count": null,
      "outputs": [
        {
          "output_type": "execute_result",
          "data": {
            "text/plain": [
              "tensor([[-1.3739, -2.4743, -2.6088, -1.5881, -2.3353, -2.3220, -1.6614]],\n",
              "       device='cuda:0', grad_fn=<LogSoftmaxBackward>)"
            ]
          },
          "metadata": {
            "tags": []
          },
          "execution_count": 40
        }
      ]
    },
    {
      "cell_type": "code",
      "metadata": {
        "id": "gV-MKWFnsE-5",
        "outputId": "c92d0bba-a1c0-47f3-9cd7-a39d3665b4aa",
        "colab": {
          "base_uri": "https://localhost:8080/",
          "height": 638
        }
      },
      "source": [
        "model"
      ],
      "execution_count": null,
      "outputs": [
        {
          "output_type": "execute_result",
          "data": {
            "text/plain": [
              "GNRNet(\n",
              "  (ConvLayer1): Sequential(\n",
              "    (0): Conv2d(3, 64, kernel_size=(3, 3), stride=(1, 1), padding=(1, 1))\n",
              "    (1): LeakyReLU(negative_slope=0.01, inplace=True)\n",
              "    (2): BatchNorm2d(64, eps=1e-05, momentum=0.1, affine=True, track_running_stats=True)\n",
              "  )\n",
              "  (ConvLayer2): Sequential(\n",
              "    (0): Conv2d(64, 64, kernel_size=(3, 3), stride=(1, 1), padding=(1, 1))\n",
              "    (1): LeakyReLU(negative_slope=0.01, inplace=True)\n",
              "    (2): BatchNorm2d(64, eps=1e-05, momentum=0.1, affine=True, track_running_stats=True)\n",
              "    (3): MaxPool2d(kernel_size=2, stride=2, padding=0, dilation=1, ceil_mode=False)\n",
              "  )\n",
              "  (ConvLayer3): Sequential(\n",
              "    (0): Conv2d(64, 128, kernel_size=(3, 3), stride=(1, 1), padding=(1, 1))\n",
              "    (1): LeakyReLU(negative_slope=0.01, inplace=True)\n",
              "    (2): BatchNorm2d(128, eps=1e-05, momentum=0.1, affine=True, track_running_stats=True)\n",
              "    (3): MaxPool2d(kernel_size=2, stride=2, padding=0, dilation=1, ceil_mode=False)\n",
              "  )\n",
              "  (ConvLayer4): Sequential(\n",
              "    (0): Conv2d(128, 256, kernel_size=(3, 3), stride=(1, 1), padding=(1, 1))\n",
              "    (1): LeakyReLU(negative_slope=0.01, inplace=True)\n",
              "    (2): BatchNorm2d(256, eps=1e-05, momentum=0.1, affine=True, track_running_stats=True)\n",
              "    (3): MaxPool2d(kernel_size=2, stride=2, padding=0, dilation=1, ceil_mode=False)\n",
              "  )\n",
              "  (ConvLayer5): Sequential(\n",
              "    (0): Conv2d(256, 512, kernel_size=(3, 3), stride=(1, 1), padding=(1, 1))\n",
              "    (1): LeakyReLU(negative_slope=0.01, inplace=True)\n",
              "    (2): BatchNorm2d(512, eps=1e-05, momentum=0.1, affine=True, track_running_stats=True)\n",
              "    (3): MaxPool2d(kernel_size=2, stride=2, padding=0, dilation=1, ceil_mode=False)\n",
              "  )\n",
              "  (FC): Sequential(\n",
              "    (0): Linear(in_features=100352, out_features=1000, bias=True)\n",
              "    (1): LeakyReLU(negative_slope=0.01, inplace=True)\n",
              "    (2): Dropout(p=0.5, inplace=False)\n",
              "    (3): Linear(in_features=1000, out_features=7, bias=True)\n",
              "  )\n",
              ")"
            ]
          },
          "metadata": {
            "tags": []
          },
          "execution_count": 45
        }
      ]
    },
    {
      "cell_type": "markdown",
      "metadata": {
        "id": "huuKTiEcu6iI"
      },
      "source": [
        "#Early-Stopping"
      ]
    },
    {
      "cell_type": "code",
      "metadata": {
        "id": "U0G6qrDfulbi"
      },
      "source": [
        "class EarlyStopping:\n",
        "    \"\"\"Early stops the training if validation loss doesn't improve after a given patience.\"\"\"\n",
        "    def __init__(self, patience=3, verbose=False, delta=0, path='checkpoint.pt'):\n",
        "        \"\"\"\n",
        "        Args:\n",
        "            patience (int): How long to wait after last time validation loss improved.\n",
        "                            Default: 7\n",
        "            verbose (bool): If True, prints a message for each validation loss improvement. \n",
        "                            Default: False\n",
        "            delta (float): Minimum change in the monitored quantity to qualify as an improvement.\n",
        "                            Default: 0\n",
        "            path (str): Path for the checkpoint to be saved to.\n",
        "                            Default: 'checkpoint.pt'\n",
        "        \"\"\"\n",
        "        self.patience = patience\n",
        "        self.verbose = verbose\n",
        "        self.counter = 0\n",
        "        self.best_score = None\n",
        "        self.early_stop = False\n",
        "        self.val_loss_min = np.Inf\n",
        "        self.delta = delta\n",
        "        self.path = path\n",
        "\n",
        "    def __call__(self, val_loss, model):\n",
        "\n",
        "        score = -val_loss\n",
        "\n",
        "        if self.best_score is None:\n",
        "            self.best_score = score\n",
        "        elif score < self.best_score + self.delta:\n",
        "            self.counter += 1\n",
        "            print(f'EarlyStopping counter: {self.counter} out of {self.patience}')\n",
        "            if self.counter >= self.patience:\n",
        "                self.early_stop = True\n",
        "        else:\n",
        "            self.best_score = score\n",
        "            self.counter = 0\n",
        "\n"
      ],
      "execution_count": null,
      "outputs": []
    },
    {
      "cell_type": "markdown",
      "metadata": {
        "id": "QIZcVolAnpdn"
      },
      "source": [
        "#Training Loop"
      ]
    },
    {
      "cell_type": "code",
      "metadata": {
        "id": "IMf6MUYUvYoD"
      },
      "source": [
        "\n",
        "#added new parameter of start_epoch\n",
        "def train_model(model, criterion, optimizer_fc, optimizer_conv, scheduler_fc, scheduler_conv, num_epochs=10,resume=None, model_name='GNR'):\n",
        "    since = time.time()\n",
        "\n",
        "    train_loss = []\n",
        "    val_loss = []\n",
        "\n",
        "    best_acc = 0.0\n",
        "    start_epoch = 0\n",
        "\n",
        "    #Definging Early stopping\n",
        "    #early_stopping = EarlyStopping(patience=3, verbose=True)\n",
        "\n",
        "    for epoch in range(start_epoch, num_epochs):\n",
        "        print('Epoch {}/{}'.format(epoch, num_epochs - 1))\n",
        "        print('-' * 10)\n",
        "\n",
        "        # Each epoch has a training and validation phase\n",
        "        for phase in ['train', 'validation']:#\n",
        "            if phase == 'train':\n",
        "                model.train()  # Set model to training mode\n",
        "            else:\n",
        "                model.eval()   # Set model to evaluate mode\n",
        "\n",
        "            running_loss = 0.0\n",
        "            running_corrects = 0\n",
        "\n",
        "            ground_truth = []\n",
        "            predictions = []\n",
        "            confidence = []\n",
        "\n",
        "            new_soft = []\n",
        "            new_live_images = []\n",
        "            new_ground_truth = []\n",
        "            new_predictions = []\n",
        "\n",
        "            \n",
        "            # Iterate over data.\n",
        "            temp = 0\n",
        "\n",
        "            for inputs, labels in dataloaders[phase]:\n",
        "                inputs = inputs.to(device)\n",
        "                labels = labels.to(device)\n",
        "                #labels = labels.squeeze(-1)\n",
        "\n",
        "                #optimizer.zero_grad()\n",
        "                # zero the parameter gradients\n",
        "                optimizer_fc.zero_grad()\n",
        "                optimizer_conv.zero_grad()\n",
        "\n",
        "                # forward\n",
        "                # track history if only in train\n",
        "                \n",
        "                with torch.set_grad_enabled(phase == 'train'):\n",
        "                    outputs = model(inputs)\n",
        "\n",
        "                    _, preds = torch.max(outputs, dim=1)\n",
        "                    loss = criterion(outputs, labels)\n",
        "\n",
        "                    # backward + optimize only if in training phase\n",
        "                    if phase == 'train':\n",
        "                        loss.backward()\n",
        "\n",
        "                        #optimizer.step()\n",
        "                        optimizer_fc.step()\n",
        "                        optimizer_conv.step()\n",
        "\n",
        "                    else:\n",
        "                        ground_truth.append(labels)\n",
        "                        predictions.append(preds)\n",
        "                        # print(outputs)\n",
        "                        conf_scores,idx = torch.max(torch.nn.functional.softmax(outputs,dim=1),dim=1)\n",
        "                        # print(idx)\n",
        "                        confidence.append(conf_scores)\n",
        "\n",
        "                \n",
        "                # statistics\n",
        "                running_loss += loss.item() * inputs.size(0)\n",
        "                running_corrects += torch.sum(preds == labels.data)\n",
        "                #print(\"1 Batch done\")\n",
        "                \n",
        "            if phase == 'validation':\n",
        "                #scheduler.step(running_loss)\n",
        "                #scheduler.step()\n",
        "                scheduler_fc.step(running_loss)\n",
        "                scheduler_conv.step(running_loss)\n",
        "                #scheduler_fc.step()\n",
        "                #scheduler_conv.step()\n",
        "            if phase == 'validation':\n",
        "\n",
        "                a,b,c = torch.cat(ground_truth), torch.cat(predictions), torch.cat(confidence)\n",
        "                a = a.detach().cpu().numpy()\n",
        "                b = b.detach().cpu().numpy()\n",
        "                c = c.detach().cpu().numpy()\n",
        "\n",
        "                a = [0 if x==0 else 1 for x in a]\n",
        "                b = [0 if x==0 else 1 for x in b]\n",
        "\n",
        "            epoch_loss = running_loss / dataset_sizes[phase]\n",
        "            epoch_acc = running_corrects.double() / dataset_sizes[phase]\n",
        "\n",
        "            if phase == \"train\":\n",
        "              train_loss.append(epoch_loss)\n",
        "            elif phase == \"test\":\n",
        "              test_loss.append(epoch_loss)\n",
        "            else:\n",
        "              val_loss.append(epoch_loss)\n",
        "\n",
        "            print('{} Loss: {:.4f} Acc: {:.4f}'.format(\n",
        "                phase, epoch_loss, epoch_acc))\n",
        "\n",
        "            # deep copy the model\n",
        "            if phase == 'validation' and epoch_acc > best_acc:\n",
        "                best_acc = epoch_acc\n",
        "\n",
        "                model_weight_dir = './weights_'+model_name\n",
        "            '''\n",
        "            #Early-Stopping\n",
        "            if phase == \"validation\":   \n",
        "              early_stopping(epoch_loss, model)\n",
        "          \n",
        "              if early_stopping.early_stop:\n",
        "                print(\"Early stopping\")\n",
        "                time_elapsed = time.time() - since\n",
        "                print('Training complete in {:.0f}m {:.0f}s'.format(\n",
        "                    time_elapsed // 60, time_elapsed % 60))\n",
        "                print('Best val Acc: {:4f}'.format(best_acc))\n",
        "\n",
        "                return model, train_loss, val_loss\n",
        "            '''\n",
        "\n",
        "        print()\n",
        "\n",
        "\n",
        "    time_elapsed = time.time() - since\n",
        "    print('Training complete in {:.0f}m {:.0f}s'.format(\n",
        "        time_elapsed // 60, time_elapsed % 60))\n",
        "    print('Best val Acc: {:4f}'.format(best_acc))\n",
        "\n",
        "    return model, train_loss, val_loss"
      ],
      "execution_count": null,
      "outputs": []
    },
    {
      "cell_type": "code",
      "metadata": {
        "id": "khyA0iJWazLt",
        "outputId": "442e6be7-9cdb-4893-9f21-8ade7118fa1e",
        "colab": {
          "base_uri": "https://localhost:8080/",
          "height": 1000
        }
      },
      "source": [
        "model_training = train_model(model, criterion, \n",
        "                              optimizer_fc, optimizer_conv, \n",
        "                              exp_lr_scheduler_fc, exp_lr_scheduler_conv,\n",
        "                              num_epochs=100)"
      ],
      "execution_count": null,
      "outputs": [
        {
          "output_type": "stream",
          "text": [
            "Epoch 0/99\n",
            "----------\n",
            "train Loss: 1.8301 Acc: 0.2925\n",
            "validation Loss: 1.9180 Acc: 0.1364\n",
            "\n",
            "Epoch 1/99\n",
            "----------\n",
            "train Loss: 1.3805 Acc: 0.5545\n",
            "validation Loss: 1.5489 Acc: 0.5227\n",
            "\n",
            "Epoch 2/99\n",
            "----------\n",
            "train Loss: 1.1564 Acc: 0.6214\n",
            "validation Loss: 1.0849 Acc: 0.7348\n",
            "\n",
            "Epoch 3/99\n",
            "----------\n",
            "train Loss: 1.0293 Acc: 0.6577\n",
            "validation Loss: 0.8963 Acc: 0.7576\n",
            "\n",
            "Epoch 4/99\n",
            "----------\n",
            "train Loss: 0.9417 Acc: 0.6902\n",
            "validation Loss: 0.7882 Acc: 0.7652\n",
            "\n",
            "Epoch 5/99\n",
            "----------\n",
            "train Loss: 0.8365 Acc: 0.7419\n",
            "validation Loss: 0.7278 Acc: 0.7879\n",
            "\n",
            "Epoch 6/99\n",
            "----------\n",
            "train Loss: 0.7634 Acc: 0.7495\n",
            "validation Loss: 0.6742 Acc: 0.8030\n",
            "\n",
            "Epoch 7/99\n",
            "----------\n",
            "train Loss: 0.7329 Acc: 0.7514\n",
            "validation Loss: 0.6187 Acc: 0.8182\n",
            "\n",
            "Epoch 8/99\n",
            "----------\n",
            "train Loss: 0.6576 Acc: 0.8107\n",
            "validation Loss: 0.5897 Acc: 0.8409\n",
            "\n",
            "Epoch 9/99\n",
            "----------\n",
            "train Loss: 0.6695 Acc: 0.8031\n",
            "validation Loss: 0.5558 Acc: 0.8409\n",
            "\n",
            "Epoch 10/99\n",
            "----------\n",
            "train Loss: 0.6097 Acc: 0.8069\n",
            "validation Loss: 0.5225 Acc: 0.8409\n",
            "\n",
            "Epoch 11/99\n",
            "----------\n",
            "train Loss: 0.5633 Acc: 0.8317\n",
            "validation Loss: 0.5046 Acc: 0.8333\n",
            "\n",
            "Epoch 12/99\n",
            "----------\n",
            "train Loss: 0.5846 Acc: 0.8184\n",
            "validation Loss: 0.4860 Acc: 0.8409\n",
            "\n",
            "Epoch 13/99\n",
            "----------\n",
            "train Loss: 0.5429 Acc: 0.8260\n",
            "validation Loss: 0.4552 Acc: 0.8712\n",
            "\n",
            "Epoch 14/99\n",
            "----------\n",
            "train Loss: 0.4849 Acc: 0.8604\n",
            "validation Loss: 0.4355 Acc: 0.8712\n",
            "\n",
            "Epoch 15/99\n",
            "----------\n",
            "train Loss: 0.4925 Acc: 0.8298\n",
            "validation Loss: 0.4162 Acc: 0.8712\n",
            "\n",
            "Epoch 16/99\n",
            "----------\n",
            "train Loss: 0.4887 Acc: 0.8298\n",
            "validation Loss: 0.4113 Acc: 0.8712\n",
            "\n",
            "Epoch 17/99\n",
            "----------\n",
            "train Loss: 0.4595 Acc: 0.8547\n",
            "validation Loss: 0.3946 Acc: 0.8712\n",
            "\n",
            "Epoch 18/99\n",
            "----------\n",
            "train Loss: 0.4528 Acc: 0.8547\n",
            "validation Loss: 0.3780 Acc: 0.8485\n",
            "\n",
            "Epoch 19/99\n",
            "----------\n",
            "train Loss: 0.4455 Acc: 0.8642\n",
            "validation Loss: 0.3567 Acc: 0.8712\n",
            "\n",
            "Epoch 20/99\n",
            "----------\n",
            "train Loss: 0.4244 Acc: 0.8623\n",
            "validation Loss: 0.3543 Acc: 0.8864\n",
            "\n",
            "Epoch 21/99\n",
            "----------\n",
            "train Loss: 0.4441 Acc: 0.8509\n",
            "validation Loss: 0.3433 Acc: 0.9015\n",
            "\n",
            "Epoch 22/99\n",
            "----------\n",
            "train Loss: 0.3714 Acc: 0.8834\n",
            "validation Loss: 0.3511 Acc: 0.8864\n",
            "\n",
            "Epoch 23/99\n",
            "----------\n",
            "train Loss: 0.4106 Acc: 0.8623\n",
            "validation Loss: 0.3338 Acc: 0.8939\n",
            "\n",
            "Epoch 24/99\n",
            "----------\n",
            "train Loss: 0.3980 Acc: 0.8795\n",
            "validation Loss: 0.3187 Acc: 0.9015\n",
            "\n",
            "Epoch 25/99\n",
            "----------\n",
            "train Loss: 0.3874 Acc: 0.8623\n",
            "validation Loss: 0.3195 Acc: 0.8864\n",
            "\n",
            "Epoch 26/99\n",
            "----------\n",
            "train Loss: 0.3758 Acc: 0.8815\n",
            "validation Loss: 0.3107 Acc: 0.8939\n",
            "\n",
            "Epoch 27/99\n",
            "----------\n",
            "train Loss: 0.3741 Acc: 0.8700\n",
            "validation Loss: 0.3146 Acc: 0.8864\n",
            "\n",
            "Epoch 28/99\n",
            "----------\n",
            "train Loss: 0.3509 Acc: 0.8910\n",
            "validation Loss: 0.2953 Acc: 0.9015\n",
            "\n",
            "Epoch 29/99\n",
            "----------\n",
            "train Loss: 0.3657 Acc: 0.8757\n",
            "validation Loss: 0.2841 Acc: 0.8864\n",
            "\n",
            "Epoch 30/99\n",
            "----------\n",
            "train Loss: 0.3494 Acc: 0.8815\n",
            "validation Loss: 0.2639 Acc: 0.9015\n",
            "\n",
            "Epoch 31/99\n",
            "----------\n",
            "train Loss: 0.3002 Acc: 0.9120\n",
            "validation Loss: 0.2709 Acc: 0.9167\n",
            "\n",
            "Epoch 32/99\n",
            "----------\n",
            "train Loss: 0.3260 Acc: 0.9006\n",
            "validation Loss: 0.2668 Acc: 0.8939\n",
            "\n",
            "Epoch 33/99\n",
            "----------\n",
            "train Loss: 0.3125 Acc: 0.8891\n",
            "validation Loss: 0.2684 Acc: 0.9015\n",
            "\n",
            "Epoch 34/99\n",
            "----------\n",
            "train Loss: 0.3403 Acc: 0.9044\n",
            "validation Loss: 0.2800 Acc: 0.9167\n",
            "\n",
            "Epoch 35/99\n",
            "----------\n",
            "train Loss: 0.3223 Acc: 0.8929\n",
            "validation Loss: 0.2542 Acc: 0.9167\n",
            "\n",
            "Epoch 36/99\n",
            "----------\n",
            "train Loss: 0.2655 Acc: 0.9254\n",
            "validation Loss: 0.2355 Acc: 0.9167\n",
            "\n",
            "Epoch 37/99\n",
            "----------\n",
            "train Loss: 0.2882 Acc: 0.9063\n",
            "validation Loss: 0.2304 Acc: 0.9318\n",
            "\n",
            "Epoch 38/99\n",
            "----------\n",
            "train Loss: 0.2897 Acc: 0.8948\n",
            "validation Loss: 0.2248 Acc: 0.9015\n",
            "\n",
            "Epoch 39/99\n",
            "----------\n",
            "train Loss: 0.2717 Acc: 0.9197\n",
            "validation Loss: 0.2445 Acc: 0.9167\n",
            "\n",
            "Epoch 40/99\n",
            "----------\n",
            "train Loss: 0.2664 Acc: 0.9273\n",
            "validation Loss: 0.2239 Acc: 0.9242\n",
            "\n",
            "Epoch 41/99\n",
            "----------\n",
            "train Loss: 0.2420 Acc: 0.9293\n",
            "validation Loss: 0.2178 Acc: 0.9167\n",
            "\n",
            "Epoch 42/99\n",
            "----------\n",
            "train Loss: 0.2472 Acc: 0.9197\n",
            "validation Loss: 0.2373 Acc: 0.9167\n",
            "\n",
            "Epoch 43/99\n",
            "----------\n",
            "train Loss: 0.2383 Acc: 0.9331\n",
            "validation Loss: 0.2188 Acc: 0.9167\n",
            "\n",
            "Epoch 44/99\n",
            "----------\n",
            "train Loss: 0.2396 Acc: 0.9235\n",
            "validation Loss: 0.2235 Acc: 0.9318\n",
            "\n",
            "Epoch 45/99\n",
            "----------\n",
            "train Loss: 0.2656 Acc: 0.9063\n",
            "validation Loss: 0.2008 Acc: 0.9242\n",
            "\n",
            "Epoch 46/99\n",
            "----------\n",
            "train Loss: 0.2375 Acc: 0.9331\n",
            "validation Loss: 0.2172 Acc: 0.9242\n",
            "\n",
            "Epoch 47/99\n",
            "----------\n",
            "train Loss: 0.2474 Acc: 0.9331\n",
            "validation Loss: 0.1997 Acc: 0.9318\n",
            "\n",
            "Epoch 48/99\n",
            "----------\n",
            "train Loss: 0.2462 Acc: 0.9178\n",
            "validation Loss: 0.2149 Acc: 0.9091\n",
            "\n",
            "Epoch 49/99\n",
            "----------\n",
            "train Loss: 0.2310 Acc: 0.9293\n",
            "validation Loss: 0.2415 Acc: 0.9394\n",
            "\n",
            "Epoch 50/99\n",
            "----------\n",
            "train Loss: 0.2393 Acc: 0.9273\n",
            "validation Loss: 0.2020 Acc: 0.9394\n",
            "\n",
            "Epoch 51/99\n",
            "----------\n",
            "train Loss: 0.2112 Acc: 0.9446\n",
            "validation Loss: 0.2002 Acc: 0.9394\n",
            "\n",
            "Epoch 52/99\n",
            "----------\n",
            "train Loss: 0.2281 Acc: 0.9388\n",
            "validation Loss: 0.1953 Acc: 0.9394\n",
            "\n",
            "Epoch 53/99\n",
            "----------\n",
            "train Loss: 0.1919 Acc: 0.9465\n",
            "validation Loss: 0.2428 Acc: 0.9091\n",
            "\n",
            "Epoch 54/99\n",
            "----------\n",
            "train Loss: 0.2163 Acc: 0.9235\n",
            "validation Loss: 0.2603 Acc: 0.9167\n",
            "\n",
            "Epoch 55/99\n",
            "----------\n",
            "train Loss: 0.2033 Acc: 0.9388\n",
            "validation Loss: 0.1982 Acc: 0.9394\n",
            "\n",
            "Epoch 56/99\n",
            "----------\n",
            "train Loss: 0.1995 Acc: 0.9446\n",
            "validation Loss: 0.2082 Acc: 0.9394\n",
            "\n",
            "Epoch 57/99\n",
            "----------\n",
            "train Loss: 0.2084 Acc: 0.9350\n",
            "validation Loss: 0.1952 Acc: 0.9394\n",
            "\n",
            "Epoch 58/99\n",
            "----------\n",
            "train Loss: 0.1807 Acc: 0.9541\n",
            "validation Loss: 0.1993 Acc: 0.9242\n",
            "\n",
            "Epoch 59/99\n",
            "----------\n",
            "train Loss: 0.2000 Acc: 0.9446\n",
            "validation Loss: 0.2200 Acc: 0.9318\n",
            "\n",
            "Epoch 60/99\n",
            "----------\n",
            "train Loss: 0.1971 Acc: 0.9369\n",
            "validation Loss: 0.1890 Acc: 0.9394\n",
            "\n",
            "Epoch 61/99\n",
            "----------\n",
            "train Loss: 0.1922 Acc: 0.9388\n",
            "validation Loss: 0.2907 Acc: 0.8788\n",
            "\n",
            "Epoch 62/99\n",
            "----------\n",
            "train Loss: 0.1876 Acc: 0.9407\n",
            "validation Loss: 0.1743 Acc: 0.9470\n",
            "\n",
            "Epoch 63/99\n",
            "----------\n",
            "train Loss: 0.1759 Acc: 0.9541\n",
            "validation Loss: 0.1870 Acc: 0.9318\n",
            "\n",
            "Epoch 64/99\n",
            "----------\n",
            "train Loss: 0.1454 Acc: 0.9675\n",
            "validation Loss: 0.1884 Acc: 0.9394\n",
            "\n",
            "Epoch 65/99\n",
            "----------\n",
            "train Loss: 0.1682 Acc: 0.9465\n",
            "validation Loss: 0.1983 Acc: 0.9470\n",
            "\n",
            "Epoch 66/99\n",
            "----------\n",
            "train Loss: 0.1504 Acc: 0.9579\n",
            "validation Loss: 0.1936 Acc: 0.9167\n",
            "\n",
            "Epoch 67/99\n",
            "----------\n",
            "train Loss: 0.1831 Acc: 0.9331\n",
            "validation Loss: 0.1922 Acc: 0.9394\n",
            "\n",
            "Epoch 68/99\n",
            "----------\n",
            "train Loss: 0.1421 Acc: 0.9637\n",
            "validation Loss: 0.2963 Acc: 0.8864\n",
            "\n",
            "Epoch 69/99\n",
            "----------\n",
            "train Loss: 0.1715 Acc: 0.9484\n",
            "validation Loss: 0.2535 Acc: 0.9015\n",
            "\n",
            "Epoch 70/99\n",
            "----------\n",
            "train Loss: 0.1806 Acc: 0.9407\n",
            "validation Loss: 0.3721 Acc: 0.8712\n",
            "\n",
            "Epoch 71/99\n",
            "----------\n",
            "train Loss: 0.2006 Acc: 0.9312\n",
            "validation Loss: 0.1893 Acc: 0.9394\n",
            "\n",
            "Epoch 72/99\n",
            "----------\n",
            "train Loss: 0.1508 Acc: 0.9579\n",
            "validation Loss: 0.1892 Acc: 0.9394\n",
            "\n",
            "Epoch 73/99\n",
            "----------\n",
            "train Loss: 0.1468 Acc: 0.9541\n",
            "validation Loss: 0.1687 Acc: 0.9470\n",
            "\n",
            "Epoch 74/99\n",
            "----------\n",
            "train Loss: 0.1547 Acc: 0.9465\n",
            "validation Loss: 0.1784 Acc: 0.9470\n",
            "\n",
            "Epoch 75/99\n",
            "----------\n",
            "train Loss: 0.1481 Acc: 0.9484\n",
            "validation Loss: 0.1793 Acc: 0.9394\n",
            "\n",
            "Epoch 76/99\n",
            "----------\n",
            "train Loss: 0.1546 Acc: 0.9541\n",
            "validation Loss: 0.1783 Acc: 0.9470\n",
            "\n",
            "Epoch 77/99\n",
            "----------\n",
            "train Loss: 0.1736 Acc: 0.9407\n",
            "validation Loss: 0.1707 Acc: 0.9318\n",
            "\n",
            "Epoch 78/99\n",
            "----------\n",
            "train Loss: 0.1315 Acc: 0.9675\n",
            "validation Loss: 0.1768 Acc: 0.9470\n",
            "\n",
            "Epoch 79/99\n",
            "----------\n",
            "train Loss: 0.1419 Acc: 0.9579\n",
            "validation Loss: 0.3079 Acc: 0.8788\n",
            "\n",
            "Epoch 80/99\n",
            "----------\n",
            "train Loss: 0.1489 Acc: 0.9522\n",
            "validation Loss: 0.1813 Acc: 0.9545\n",
            "\n",
            "Epoch 81/99\n",
            "----------\n",
            "train Loss: 0.1393 Acc: 0.9560\n",
            "validation Loss: 0.1487 Acc: 0.9545\n",
            "\n",
            "Epoch 82/99\n",
            "----------\n",
            "train Loss: 0.1240 Acc: 0.9618\n",
            "validation Loss: 0.1713 Acc: 0.9545\n",
            "\n",
            "Epoch 83/99\n",
            "----------\n",
            "train Loss: 0.1477 Acc: 0.9618\n",
            "validation Loss: 0.1571 Acc: 0.9470\n",
            "\n",
            "Epoch 84/99\n",
            "----------\n",
            "train Loss: 0.1240 Acc: 0.9675\n",
            "validation Loss: 0.1758 Acc: 0.9394\n",
            "\n",
            "Epoch 85/99\n",
            "----------\n",
            "train Loss: 0.1228 Acc: 0.9732\n",
            "validation Loss: 0.1614 Acc: 0.9470\n",
            "\n",
            "Epoch 86/99\n",
            "----------\n",
            "train Loss: 0.1340 Acc: 0.9637\n",
            "validation Loss: 0.1658 Acc: 0.9394\n",
            "\n",
            "Epoch 87/99\n",
            "----------\n",
            "train Loss: 0.1342 Acc: 0.9598\n",
            "validation Loss: 0.1778 Acc: 0.9470\n",
            "\n",
            "Epoch 88/99\n",
            "----------\n",
            "train Loss: 0.1311 Acc: 0.9598\n",
            "validation Loss: 0.2652 Acc: 0.8864\n",
            "\n",
            "Epoch 89/99\n",
            "----------\n",
            "train Loss: 0.1467 Acc: 0.9522\n",
            "validation Loss: 0.1861 Acc: 0.9318\n",
            "\n",
            "Epoch 90/99\n",
            "----------\n",
            "train Loss: 0.1308 Acc: 0.9656\n",
            "validation Loss: 0.1573 Acc: 0.9394\n",
            "\n",
            "Epoch 91/99\n",
            "----------\n",
            "train Loss: 0.1170 Acc: 0.9675\n",
            "validation Loss: 0.1647 Acc: 0.9470\n",
            "\n",
            "Epoch 92/99\n",
            "----------\n",
            "train Loss: 0.1139 Acc: 0.9656\n",
            "validation Loss: 0.1686 Acc: 0.9394\n",
            "\n",
            "Epoch 93/99\n",
            "----------\n",
            "train Loss: 0.1016 Acc: 0.9751\n",
            "validation Loss: 0.1725 Acc: 0.9318\n",
            "\n",
            "Epoch 94/99\n",
            "----------\n",
            "train Loss: 0.1056 Acc: 0.9732\n",
            "validation Loss: 0.1616 Acc: 0.9318\n",
            "\n",
            "Epoch 95/99\n",
            "----------\n",
            "train Loss: 0.1195 Acc: 0.9751\n",
            "validation Loss: 0.1593 Acc: 0.9394\n",
            "\n",
            "Epoch 96/99\n",
            "----------\n",
            "train Loss: 0.1086 Acc: 0.9751\n",
            "validation Loss: 0.1633 Acc: 0.9394\n",
            "\n",
            "Epoch 97/99\n",
            "----------\n",
            "train Loss: 0.1264 Acc: 0.9656\n",
            "validation Loss: 0.1574 Acc: 0.9394\n",
            "\n",
            "Epoch 98/99\n",
            "----------\n",
            "train Loss: 0.0885 Acc: 0.9809\n",
            "validation Loss: 0.1602 Acc: 0.9394\n",
            "\n",
            "Epoch 99/99\n",
            "----------\n",
            "train Loss: 0.1063 Acc: 0.9713\n",
            "validation Loss: 0.1573 Acc: 0.9394\n",
            "\n",
            "Training complete in 13m 39s\n",
            "Best val Acc: 0.954545\n"
          ],
          "name": "stdout"
        }
      ]
    },
    {
      "cell_type": "code",
      "metadata": {
        "id": "HMjroxvFfXKz",
        "outputId": "23718416-b51b-4620-fbeb-c4098220fdbe",
        "colab": {
          "base_uri": "https://localhost:8080/",
          "height": 285
        }
      },
      "source": [
        "import matplotlib.patches as mpatches\n",
        "plt.plot(model_training[1], label=\"Training\")\n",
        "plt.plot(model_training[2], label=\"Validation\")\n",
        "#training = mpatches.Patch(color='skyblue', label='Training')\n",
        "#validation = mpatches.Patch(color='orange', label='validation')\n",
        "plt.legend()"
      ],
      "execution_count": null,
      "outputs": [
        {
          "output_type": "execute_result",
          "data": {
            "text/plain": [
              "<matplotlib.legend.Legend at 0x7fab57b1f240>"
            ]
          },
          "metadata": {
            "tags": []
          },
          "execution_count": 37
        },
        {
          "output_type": "display_data",
          "data": {
            "image/png": "[encoded data removed]",
            "text/plain": [
              "<Figure size 432x288 with 1 Axes>"
            ]
          },
          "metadata": {
            "tags": [],
            "needs_background": "light"
          }
        }
      ]
    },
    {
      "cell_type": "markdown",
      "metadata": {
        "id": "VN4OMharntec"
      },
      "source": [
        "#Saving the model"
      ]
    },
    {
      "cell_type": "code",
      "metadata": {
        "id": "qAjiF4t4qVZC"
      },
      "source": [
        "#torch.save(model.state_dict(), \"/content/drive/My Drive/Kaggle/GNRNet_5.pth\")\n",
        "#torch.save(model.state_dict(), \"/content/drive/My Drive/Kaggle/GNRNet_5.pt\")"
      ],
      "execution_count": null,
      "outputs": []
    },
    {
      "cell_type": "markdown",
      "metadata": {
        "id": "vFzgp-dk5fbb"
      },
      "source": [
        "#Testing before submission\n",
        "### As there are marks for number of submission I made testing dataset by manually labelling the images since the number of images were less and then testing my final model on it"
      ]
    },
    {
      "cell_type": "code",
      "metadata": {
        "id": "2vRWXzD1t9Hw"
      },
      "source": [
        "test_dataset = datasets.ImageFolder(\"/content/drive/My Drive/Kaggle/Dataset/Labeled_test_set\", data_transforms['validation'])\n",
        "\n",
        "test_dataloader = torch.utils.data.DataLoader(\n",
        "                                    test_dataset,                                        \n",
        "                                    batch_size=1,\n",
        "                                    shuffle=False, num_workers=4)"
      ],
      "execution_count": null,
      "outputs": []
    },
    {
      "cell_type": "code",
      "metadata": {
        "id": "qQaISlVPkzG_",
        "outputId": "77134b90-43ac-4c0b-ae9d-a8b7a36eeb0b",
        "colab": {
          "base_uri": "https://localhost:8080/",
          "height": 50
        }
      },
      "source": [
        "correct = 0\n",
        "total = 0\n",
        "with torch.no_grad():\n",
        "    for data in tqdm(test_dataloader):\n",
        "        images, labels = data\n",
        "        images = images.to(device)\n",
        "        labels = labels.to(device)\n",
        "        #data = data.to(device)\n",
        "        outputs = model(images)\n",
        "        _, predicted = torch.max(outputs.data, 1)\n",
        "        total += labels.size(0)\n",
        "        correct += (predicted == labels).sum().item()\n",
        "\n",
        "print('Accuracy of the network on the 95 test images: %d %%' % (\n",
        "    100 * correct / total))"
      ],
      "execution_count": null,
      "outputs": [
        {
          "output_type": "stream",
          "text": [
            "100%|██████████| 95/95 [00:10<00:00,  9.25it/s]"
          ],
          "name": "stderr"
        },
        {
          "output_type": "stream",
          "text": [
            "Accuracy of the network on the 95 test images: 94 %\n"
          ],
          "name": "stdout"
        },
        {
          "output_type": "stream",
          "text": [
            "\n"
          ],
          "name": "stderr"
        }
      ]
    },
    {
      "cell_type": "markdown",
      "metadata": {
        "id": "VepownSmt9IE"
      },
      "source": [
        "#Sanity Check for CSV file creation"
      ]
    },
    {
      "cell_type": "code",
      "metadata": {
        "id": "NyC-TIDLt9IF"
      },
      "source": [
        "data = pd.DataFrame(columns=[\"ImageID\", \"Label\"])\n",
        "data = data.append({\"ImageID\": int(filename[:4]),\n",
        "                      \"Label\": pred_label}, ignore_index=True)"
      ],
      "execution_count": null,
      "outputs": []
    },
    {
      "cell_type": "code",
      "metadata": {
        "id": "j7Qb_SZ3t9IO",
        "outputId": "bc8ba22b-456a-49b8-df41-47870a854a4f",
        "colab": {
          "base_uri": "https://localhost:8080/",
          "height": 35
        }
      },
      "source": [
        "classes[outputs.index(max(outputs))]"
      ],
      "execution_count": null,
      "outputs": [
        {
          "output_type": "execute_result",
          "data": {
            "application/vnd.google.colaboratory.intrinsic+json": {
              "type": "string"
            },
            "text/plain": [
              "'tennis_court'"
            ]
          },
          "metadata": {
            "tags": []
          },
          "execution_count": 76
        }
      ]
    },
    {
      "cell_type": "code",
      "metadata": {
        "id": "UuERwmfmt9IZ",
        "outputId": "80fea696-5de6-4082-f426-592afab8674f",
        "colab": {
          "base_uri": "https://localhost:8080/",
          "height": 134
        }
      },
      "source": [
        "classes"
      ],
      "execution_count": null,
      "outputs": [
        {
          "output_type": "execute_result",
          "data": {
            "text/plain": [
              "['basketball_court',\n",
              " 'beach',\n",
              " 'forest',\n",
              " 'others',\n",
              " 'railway',\n",
              " 'swimming_pool',\n",
              " 'tennis_court']"
            ]
          },
          "metadata": {
            "tags": []
          },
          "execution_count": 26
        }
      ]
    },
    {
      "cell_type": "markdown",
      "metadata": {
        "id": "IZSarngNt9Ie"
      },
      "source": [
        "#Final CSV file creation"
      ]
    },
    {
      "cell_type": "code",
      "metadata": {
        "id": "UaUF4kPet9If",
        "outputId": "f804461b-91ea-4557-fec2-7c8eb2fd5522",
        "colab": {
          "base_uri": "https://localhost:8080/",
          "height": 34
        }
      },
      "source": [
        "import pandas as pd\n",
        "import os\n",
        "from PIL import Image\n",
        "\n",
        "\n",
        "data = pd.DataFrame(columns=[\"ImageID\", \"Label\"])\n",
        "for filename in tqdm(os.listdir(\"/content/drive/My Drive/Kaggle/Dataset/test_set\")):\n",
        "  img = Image.open(\"/content/drive/My Drive/Kaggle/Dataset/test_set/\"+filename)\n",
        "  img = data_transforms['validation'](img)\n",
        "  img = torch.reshape(img, (1, 3, 224, 224))\n",
        "  input_img = img.to(device)\n",
        "  outputs = model(input_img)\n",
        "  outputs = outputs.cpu()\n",
        "  outputs = list(outputs[0].detach().numpy())\n",
        "  pred_class = classes[outputs.index(max(outputs))]\n",
        "  if pred_class =='basketball_court':\n",
        "    pred_label = 1\n",
        "  elif pred_class == 'beach':\n",
        "    pred_label = 2\n",
        "  elif pred_class == 'forest':\n",
        "    pred_label = 3\n",
        "  elif pred_class == 'railway':\n",
        "    pred_label = 4\n",
        "  elif pred_class == 'tennis_court':\n",
        "    pred_label = 5\n",
        "  elif pred_class == 'swimming_pool':\n",
        "    pred_label = 6\n",
        "  elif pred_class == 'others':\n",
        "    pred_label = 7\n",
        "  \n",
        "  data = data.append({\"ImageID\": int(filename[:4]),\n",
        "                      \"Label\": pred_label}, ignore_index=True)\n"
      ],
      "execution_count": null,
      "outputs": [
        {
          "output_type": "stream",
          "text": [
            "100%|██████████| 95/95 [01:08<00:00,  1.39it/s]\n"
          ],
          "name": "stderr"
        }
      ]
    },
    {
      "cell_type": "code",
      "metadata": {
        "id": "6I8-zJckt9Ij"
      },
      "source": [
        "data = data.sort_values(by='ImageID', ascending=1)\n",
        "data.to_csv(\"new_94.csv\", index=False)"
      ],
      "execution_count": null,
      "outputs": []
    },
    {
      "cell_type": "markdown",
      "metadata": {
        "id": "FokSsouXnxMM"
      },
      "source": [
        ""
      ]
    }
  ]
}